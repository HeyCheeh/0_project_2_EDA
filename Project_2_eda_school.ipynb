{
 "cells": [
  {
   "cell_type": "code",
   "execution_count": 1,
   "metadata": {},
   "outputs": [],
   "source": [
    "import pandas as pd\n",
    "import matplotlib.pyplot as plt\n",
    "import seaborn as sns\n",
    "from itertools import combinations\n",
    "from scipy.stats import ttest_ind\n",
    "from statsmodels.stats import weightstats \n",
    "\n",
    "pd.set_option('display.max_rows', 50) # показывать больше строк\n",
    "pd.set_option('display.max_columns', 50) # показывать больше колонок\n",
    "df = pd.read_csv('stud_math.xls',index_col = False)\n"
   ]
  },
  {
   "cell_type": "markdown",
   "metadata": {},
   "source": [
    "Посмотрим на переменные, которые содержит датасет:\n",
    "\n",
    "1 school — аббревиатура школы, в которой учится ученик\n",
    "\n",
    "2 sex — пол ученика ('F' - женский, 'M' - мужской)\n",
    "\n",
    "3 age — возраст ученика (от 15 до 22)\n",
    "\n",
    "4 address — тип адреса ученика ('U' - городской, 'R' - за городом)\n",
    "\n",
    "5 famsize — размер семьи('LE3' <= 3, 'GT3' >3)\n",
    "\n",
    "6 Pstatus — статус совместного жилья родителей ('T' - живут вместе 'A' - раздельно)\n",
    "\n",
    "7 Medu — образование матери (0 - нет, 1 - 4 класса, 2 - 5-9 классы, 3 - среднее специальное или 11 классов, 4 - высшее)\n",
    "\n",
    "8 Fedu — образование отца (0 - нет, 1 - 4 класса, 2 - 5-9 классы, 3 - среднее специальное или 11 классов, 4 - высшее)\n",
    "\n",
    "9 Mjob — работа матери ('teacher' - учитель, 'health' - сфера здравоохранения, 'services' - гос служба, 'at_home' - не работает, 'other' - другое)\n",
    "\n",
    "10 Fjob — работа отца ('teacher' - учитель, 'health' - сфера здравоохранения, 'services' - гос служба, 'at_home' - не работает, 'other' - другое)\n",
    "\n",
    "11 reason — причина выбора школы ('home' - близость к дому, 'reputation' - репутация школы, 'course' - образовательная программа, 'other' - другое)\n",
    "\n",
    "12 guardian — опекун ('mother' - мать, 'father' - отец, 'other' - другое)\n",
    "\n",
    "13 traveltime — время в пути до школы (1 - <15 мин., 2 - 15-30 мин., 3 - 30-60 мин., 4 - >60 мин.)\n",
    "\n",
    "14 studytime — время на учёбу помимо школы в неделю (1 - <2 часов, 2 - 2-5 часов, 3 - 5-10 часов, 4 - >10 часов)\n",
    "\n",
    "15 failures — количество внеучебных неудач (n, если 1<=n<=3, иначе 0)\n",
    "\n",
    "16 schoolsup — дополнительная образовательная поддержка (yes или no)\n",
    "\n",
    "17 famsup — семейная образовательная поддержка (yes или no)\n",
    "\n",
    "18 paid — дополнительные платные занятия по математике (yes или no)\n",
    "\n",
    "19 activities — дополнительные внеучебные занятия (yes или no)\n",
    "\n",
    "20 nursery — посещал детский сад (yes или no)\n",
    "\n",
    "21 higher — хочет получить высшее образование (yes или no)\n",
    "\n",
    "22 internet — наличие интернета дома (yes или no)\n",
    "\n",
    "23 romantic — в романтических отношениях (yes или no)\n",
    "\n",
    "24 famrel — семейные отношения (от 1 - очень плохо до 5 - очень хорошо)\n",
    "\n",
    "25 freetime — свободное время после школы (от 1 - очень мало до 5 - очень мого)\n",
    "\n",
    "26 goout — проведение времени с друзьями (от 1 - очень мало до 5 - очень много)\n",
    "\n",
    "27 health — текущее состояние здоровья (от 1 - очень плохо до 5 - очень хорошо)\n",
    "\n",
    "28 absences — количество пропущенных занятий\n",
    "\n",
    "29 score — баллы по госэкзамену по математике"
   ]
  },
  {
   "cell_type": "markdown",
   "metadata": {},
   "source": [
    "Рекомендации по выполнению проекта\n",
    "Проведите первичную обработку данных. Так как данных много, стоит написать функции, которые можно применять к столбцам определённого типа.\n",
    "Посмотрите на распределение признака для числовых переменных, устраните выбросы.\n",
    "Оцените количество уникальных значений для номинативных переменных.\n",
    "По необходимости преобразуйте данные\n",
    "Проведите корреляционный анализ количественных переменных\n",
    "Отберите не коррелирующие переменные.\n",
    "Проанализируйте номинативные переменные и устраните те, которые не влияют на предсказываемую величину (в нашем случае — на переменную score).\n",
    "Не забудьте сформулировать выводы относительно качества данных и тех переменных, которые вы будете использовать в дальнейшем построении модели."
   ]
  },
  {
   "cell_type": "markdown",
   "metadata": {},
   "source": [
    "Вас пригласили поучаствовать в одном из проектов UNICEF — международного подразделения ООН, чья миссия состоит в повышении уровня благополучия детей по всему миру. \n",
    "\n",
    "Суть проекта — отследить влияние условий жизни учащихся в возрасте от 15 до 22 лет на их успеваемость по математике, чтобы на ранней стадии выявлять студентов, находящихся в группе риска.\n",
    "\n",
    "И сделать это можно с помощью модели, которая предсказывала бы результаты госэкзамена по математике для каждого ученика школы (вот она, сила ML!). Чтобы определиться с параметрами будущей модели, проведите разведывательный анализ данных и составьте отчёт по его результатам. "
   ]
  },
  {
   "cell_type": "code",
   "execution_count": 2,
   "metadata": {},
   "outputs": [],
   "source": [
    "# числовые значения в единый формат\n",
    "df = df.astype({'age': 'float64'})"
   ]
  },
  {
   "cell_type": "code",
   "execution_count": 3,
   "metadata": {},
   "outputs": [],
   "source": [
    "#все названия колонок с маленькой буквы\n",
    "df.columns = [x.lower() for x in list(df.columns)]\n"
   ]
  },
  {
   "cell_type": "code",
   "execution_count": 4,
   "metadata": {},
   "outputs": [],
   "source": [
    "# переименовываем колонку чтобы из одного слова без разделителей\n",
    "df.rename({'studytime, granular': 'studytime2'}, axis=1, inplace=True)"
   ]
  },
  {
   "cell_type": "code",
   "execution_count": 5,
   "metadata": {},
   "outputs": [],
   "source": [
    "# удаляем данные с результатом теста = 0, как не релевантныею. \"0\" = тест не сдавался\n",
    "df = df[df.score != 0]"
   ]
  },
  {
   "cell_type": "code",
   "execution_count": 6,
   "metadata": {},
   "outputs": [],
   "source": [
    "# выбираем колонки по типу данных и делим базу на две по этому признаку. Позднее поменялся подход.\n",
    "# Сначала рассматривается вся база, а стиранее строк будет после отбора колонок.\n",
    "Ncols = df.select_dtypes(include=['number']).columns\n",
    "NumDF = df.select_dtypes(include=['number'])\n",
    "Ncols2 = Ncols.drop('score')\n",
    "Ocols = df.columns.drop(Ncols2)\n",
    "ObjDF = df.drop(Ncols2, axis=1)"
   ]
  },
  {
   "cell_type": "code",
   "execution_count": 7,
   "metadata": {},
   "outputs": [],
   "source": [
    "# Зполняем НАН\n",
    "for column in df.columns:\n",
    "    if column in Ncols2:\n",
    "        median_ = df[column].median()\n",
    "        df[column].fillna(value=median_, inplace=True, axis=0)\n",
    "    else:\n",
    "        mode_ = df[column].mode()[0]\n",
    "        df[column].fillna(value=mode_, inplace=True, axis=0)"
   ]
  },
  {
   "cell_type": "code",
   "execution_count": 8,
   "metadata": {},
   "outputs": [],
   "source": [
    "# найдены и убраны выбросы.\n",
    "# создаем функцию которая создает таблицу со статистикой по каждой колонке\n",
    "\n",
    "def calc_iqr(columns):\n",
    "    out = []\n",
    "    for column in list(columns):\n",
    "        IQR = df[column].quantile(0.75) - df[column].quantile(0.25)\n",
    "        perc25 = df[column].quantile(0.25)\n",
    "        perc75 = df[column].quantile(0.75)\n",
    "        Lbound = ((perc25 - 1.5 * IQR))\n",
    "        Ubound = ((perc75 + 1.5 * IQR))\n",
    "        out.append((column, IQR, perc25, perc75, Lbound,Ubound))\n",
    "    temp = pd.DataFrame(out, columns=('columns', 'IQR', 'perc25','perc75','Lbound','Ubound'))\n",
    "    return temp\n",
    "\n",
    "# Создаем таблицу с результатами вычислений функции\n",
    "\n",
    "x = calc_iqr(Ncols)\n",
    "\n",
    "# Цикл удаляет из числовой ДФ строки в которых функция обнаружилы выбросы\n",
    "\n",
    "df2= df.copy()\n",
    "for y in range(len(x)):\n",
    "    lbound = x.iloc[y,4]\n",
    "    ubound = x.iloc[y,5]\n",
    "    name = x.iloc[y,0]\n",
    "    if name != 'failures':  # потому что все считается выбросами, хотя информация важная\n",
    "         df2 = df2[(df2[name] >= lbound) & (df2[name] <= ubound)]"
   ]
  },
  {
   "cell_type": "code",
   "execution_count": 9,
   "metadata": {},
   "outputs": [],
   "source": [
    "# Для количественных переменных построены гистограммы распределений и сделаны выводы.\n",
    "# нужно заменять название обрабатываемой DF внутри функции\n",
    "def get_boxplot(column):\n",
    "    fig, ax = plt.subplots(figsize = (14, 4))\n",
    "    sns.boxplot(x=column, y='score',\n",
    "                data=df2.loc[df2.loc[:, column].isin(df2.loc[:, column].value_counts().index[:10])],\n",
    "               ax=ax)\n",
    "    plt.xticks(rotation=0)\n",
    "    ax.set_title('Boxplot for ' + column)\n",
    "    plt.show()\n"
   ]
  },
  {
   "cell_type": "code",
   "execution_count": 10,
   "metadata": {},
   "outputs": [],
   "source": [
    " # выводы по Номинативным\n",
    "# school - щкола GP немного лучше в среднем но и разброс больше\n",
    "# Sex - у женщин максимальный балл выше, средний выше на 7-10 баллов, разброс немного меньше\n",
    "# address - городские жители слегка выше в среднем, но разброс больше\n",
    "# famsize -размер семьи. В большой семье слегка ниже в среднем и разброс больше\n",
    "# pstatus - кто живет раздельно в среднем так же кто и вместе\n",
    "# mjob - health лучше всего средняя, минимальная, максимальная\n",
    "# fjob - только те у кого отец учитель - оценки заметно выше\n",
    "# reason - в среднем одинаково\n",
    "# guardian - в среднем одинаково\n",
    "# schoolsup - БЕЗ доп образования сдали тест ЛУЧШЕ в среднем, максимальном, разброс выше\n",
    "# famsup - одинаково\n",
    "# paid - дополнительные  занятия - не влияют\n",
    "# activities - ВНЕучебные не влияют\n",
    "# nursery - детский сад не влияет\n",
    "# higher - те кто хочет поступать в высшее стараются получить лучший балл, и это им удается. средняя выше, основная масса\n",
    "# наблюдений в более высоком диапазоне, выше максимальные значения\n",
    "# internet - не влияет\n",
    "# romantic - не влияет"
   ]
  },
  {
   "cell_type": "code",
   "execution_count": 22,
   "metadata": {},
   "outputs": [
    {
     "name": "stdout",
     "output_type": "stream",
     "text": [
      "Найдены статистически значимые различия для колонки school\n",
      "Найдены статистически значимые различия для колонки sex\n",
      "Найдены статистически значимые различия для колонки address\n",
      "Найдены статистически значимые различия для колонки schoolsup\n",
      "Найдены статистически значимые различия для колонки score\n"
     ]
    },
    {
     "data": {
      "text/plain": [
       "['school',\n",
       " 'sex',\n",
       " 'address',\n",
       " 'schoolsup',\n",
       " 'age',\n",
       " 'medu',\n",
       " 'fedu',\n",
       " 'failures',\n",
       " 'goout',\n",
       " 'absences']"
      ]
     },
     "execution_count": 22,
     "metadata": {},
     "output_type": "execute_result"
    }
   ],
   "source": [
    "\n",
    "Final_list = []\n",
    "\n",
    "# Дополнительный анализ номинативных переменных Т-тес\n",
    "def get_stat_dif(column):\n",
    "    cols = df2.loc[:, column].value_counts().index[:10]\n",
    "    combinations_all = list(combinations(cols, 2))\n",
    "    for comb in combinations_all:\n",
    "        if ttest_ind(df2.loc[df2.loc[:, column] == comb[0], 'score'],\n",
    "                        df2.loc[df2.loc[:, column] == comb[1], 'score']).pvalue \\\n",
    "            <= 0.05/len(combinations_all):\n",
    "            if column != 'score':\n",
    "                Final_list.append(column)\n",
    "            print('Найдены статистически значимые различия для колонки', column)\n",
    "            break\n",
    "\n",
    "for col in Ocols:\n",
    "     get_stat_dif(col)\n",
    "        \n",
    "        \n",
    "min_corr = 0.15\n",
    "\n",
    "corr = df2.corr()['score']\n",
    "corr =corr[abs(corr.values) > min_corr]\n",
    "add = list(map(lambda x: x,corr.keys()))\n",
    "for x in add:\n",
    "    if x != 'score':\n",
    "        Final_list.append(x)\n",
    "\n",
    "Final_list"
   ]
  },
  {
   "cell_type": "code",
   "execution_count": 12,
   "metadata": {},
   "outputs": [],
   "source": [
    "#выводы\n",
    "# В листе Final_list -наименования колонок которые можно оставть для анлиза данных\n",
    "# для изменения порога уровня ПРИЕМЛИМОЙ корреляции помжно поменять, поменяв значение переменной  min_corr\n",
    "#"
   ]
  },
  {
   "cell_type": "code",
   "execution_count": 17,
   "metadata": {},
   "outputs": [],
   "source": []
  },
  {
   "cell_type": "code",
   "execution_count": null,
   "metadata": {},
   "outputs": [],
   "source": []
  }
 ],
 "metadata": {
  "kernelspec": {
   "display_name": "Python 3",
   "language": "python",
   "name": "python3"
  },
  "language_info": {
   "codemirror_mode": {
    "name": "ipython",
    "version": 3
   },
   "file_extension": ".py",
   "mimetype": "text/x-python",
   "name": "python",
   "nbconvert_exporter": "python",
   "pygments_lexer": "ipython3",
   "version": "3.8.8"
  }
 },
 "nbformat": 4,
 "nbformat_minor": 4
}
